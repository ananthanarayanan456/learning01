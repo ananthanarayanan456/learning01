{
 "cells": [
  {
   "cell_type": "code",
   "execution_count": 1,
   "id": "adbd79c4",
   "metadata": {},
   "outputs": [
    {
     "data": {
      "text/plain": [
       "True"
      ]
     },
     "execution_count": 1,
     "metadata": {},
     "output_type": "execute_result"
    }
   ],
   "source": [
    "from dotenv import load_dotenv\n",
    "load_dotenv()"
   ]
  },
  {
   "cell_type": "code",
   "execution_count": 2,
   "id": "494c7bbe",
   "metadata": {},
   "outputs": [],
   "source": [
    "from langchain.schema import Document\n",
    "from langchain_openai.chat_models import ChatOpenAI\n",
    "from langchain_openai.embeddings import OpenAIEmbeddings\n",
    "from langchain_community.vectorstores import Chroma\n",
    "from langchain_core.prompts import ChatPromptTemplate"
   ]
  },
  {
   "cell_type": "code",
   "execution_count": 3,
   "id": "2429d89f",
   "metadata": {},
   "outputs": [],
   "source": [
    "docs = [\n",
    "    Document(\n",
    "        page_content=\"The Chennai Super Kings (CSK) are one of the most successful teams in IPL history, having won the championship five times. The team is led by legendary captain MS Dhoni.\",\n",
    "        metadata={\"source\": \"teams.txt\"},\n",
    "    ),\n",
    "    Document(\n",
    "        page_content=\"The 2024 IPL season featured 10 teams competing in a round-robin format followed by playoffs. The final was held at Chennai.\",\n",
    "        metadata={\"source\": \"season_info.txt\"},\n",
    "    ),\n",
    "    Document(\n",
    "        page_content=\"Virat Kohli is the highest run-scorer in IPL history with over 7,000 runs. He plays for Royal Challengers Bangalore (RCB) and has several centuries to his name.\",\n",
    "        metadata={\"source\": \"players.txt\"},\n",
    "    ),\n",
    "    Document(\n",
    "        page_content=\"The IPL generates significant revenue through broadcasting rights, sponsorships, and ticket sales. In 2023, the broadcasting rights were sold for over ₹48,000 crore.\",\n",
    "        metadata={\"source\": \"economics.txt\"},\n",
    "    ),\n",
    "    Document(\n",
    "        page_content=\"Jasprit Bumrah is considered one of the top bowlers in the IPL, known for his death-over accuracy. He plays for the Mumbai Indians and has taken over 150 wickets in the league.\",\n",
    "        metadata={\"source\": \"players.txt\"},\n",
    "    ),\n",
    "    Document(\n",
    "        page_content=\"The Mumbai Indians (MI) have won the IPL title five times, tying with Chennai Super Kings for the most championships. They are known for their strong core of Indian and international players.\",\n",
    "        metadata={\"source\": \"teams.txt\"},\n",
    "    ),\n",
    "]"
   ]
  },
  {
   "cell_type": "code",
   "execution_count": 4,
   "id": "2091dba9",
   "metadata": {},
   "outputs": [],
   "source": [
    "embedding_function = OpenAIEmbeddings()\n",
    "db = Chroma.from_documents(docs, embedding_function)\n",
    "\n",
    "retriever = db.as_retriever(search_kwargs={\"k\": 2})"
   ]
  },
  {
   "cell_type": "code",
   "execution_count": 5,
   "id": "b1befb8e",
   "metadata": {},
   "outputs": [],
   "source": [
    "template = \"\"\"\n",
    "Answer the question based on the following context and the Chathistory. Especially take the latest question into consideration:\n",
    "\n",
    "Chathistory: {chat_history}\n",
    "Context: {context}\n",
    "Question: {question}\n",
    "Answer:\n",
    "\"\"\"\n",
    "prompt = ChatPromptTemplate.from_template(template)"
   ]
  },
  {
   "cell_type": "code",
   "execution_count": 6,
   "id": "fcb561e2",
   "metadata": {},
   "outputs": [],
   "source": [
    "llm = ChatOpenAI(model=\"gpt-4o-mini\")\n",
    "rag_chain = prompt | llm "
   ]
  },
  {
   "cell_type": "code",
   "execution_count": 7,
   "id": "3d63956e",
   "metadata": {},
   "outputs": [],
   "source": [
    "val = rag_chain.invoke({\"chat_history\": \"\", \"context\": \"\", \"question\": \"Who is the highest run-scorer in IPL history?\"})"
   ]
  },
  {
   "cell_type": "code",
   "execution_count": 8,
   "id": "41e886c0",
   "metadata": {},
   "outputs": [
    {
     "name": "stdout",
     "output_type": "stream",
     "text": [
      "As of October 2023, the highest run-scorer in IPL history is Virat Kohli.\n"
     ]
    }
   ],
   "source": [
    "print(val.content)"
   ]
  },
  {
   "cell_type": "markdown",
   "id": "03e9b0f8",
   "metadata": {},
   "source": [
    "# with Langgraph"
   ]
  },
  {
   "cell_type": "code",
   "execution_count": 9,
   "id": "bee12d2b",
   "metadata": {},
   "outputs": [],
   "source": [
    "from typing import List, Literal\n",
    "from pydantic import BaseModel, Field\n",
    "from langchain_core.messages import BaseMessage, HumanMessage, AIMessage, SystemMessage\n",
    "from langchain_core.prompts import ChatPromptTemplate\n",
    "from langgraph.graph import StateGraph, START, END\n",
    "from langgraph.graph import MessagesState"
   ]
  },
  {
   "cell_type": "code",
   "execution_count": 10,
   "id": "6ec95af9",
   "metadata": {},
   "outputs": [],
   "source": [
    "class AgentState(MessagesState):\n",
    "    documents: List[Document]\n",
    "    on_topic: str\n",
    "    rephrased_question: str\n",
    "    proceed_to_generate: bool\n",
    "    rephrase_count: int\n",
    "    question: HumanMessage"
   ]
  },
  {
   "cell_type": "code",
   "execution_count": 11,
   "id": "f4519fe6",
   "metadata": {},
   "outputs": [],
   "source": [
    "class GradeQuestion(BaseModel):\n",
    "    score: str = Field(\n",
    "        description=\"Question is about the specified topics? If yes -> 'Yes' if not -> 'No'\"\n",
    "    )"
   ]
  },
  {
   "cell_type": "code",
   "execution_count": 12,
   "id": "30c5e5ec",
   "metadata": {},
   "outputs": [],
   "source": [
    "def question_rewriter_node(state: AgentState) -> AgentState:\n",
    "    \"\"\"\n",
    "    This node is responsible for rephrasing the question based on the topic.\n",
    "    \"\"\"\n",
    "    \n",
    "    state['documents'] = []\n",
    "    state['on_topic'] = \"\"\n",
    "    state['rephrased_question'] = \"\"\n",
    "    state['proceed_to_generate'] = False\n",
    "    state['rephrase_count'] = 0\n",
    "\n",
    "    state[\"messages\"] = state.get(\"messages\", [])\n",
    "\n",
    "    if state['question'] not in state['messages']:\n",
    "        state['messages'].append(state['question'])\n",
    "\n",
    "    if len(state['messages']) > 1:\n",
    "\n",
    "        conversation = state['messages'][:-1]\n",
    "        current_question = state['question'].content \n",
    "\n",
    "        messages = [\n",
    "            SystemMessage(\n",
    "                content=\"You are a helpful assistant that rephrases the user's question to be a standalone question optimized for retrieval.\"\n",
    "            )\n",
    "        ]\n",
    "\n",
    "        messages.extend(conversation)\n",
    "        messages.append(HumanMessage(content=current_question))\n",
    "        rephrase_prompt = ChatPromptTemplate.from_messages(messages)\n",
    "        llm = ChatOpenAI(model=\"gpt-4o-mini\")\n",
    "\n",
    "        prompt = rephrase_prompt.format()\n",
    "        response = llm.invoke(prompt)\n",
    "        better_question = response.content.strip()\n",
    "        print(\"Rephrased question:\", better_question)\n",
    "        state['rephrased_question'] = better_question\n",
    "\n",
    "    else:\n",
    "        state['rephrased_question'] = state['question'].content\n",
    "\n",
    "    return state"
   ]
  },
  {
   "cell_type": "code",
   "execution_count": 13,
   "id": "ddb38869",
   "metadata": {},
   "outputs": [],
   "source": [
    "def question_classifier_node(state: AgentState) -> AgentState:\n",
    "    \"\"\"\n",
    "    This node is responsible for classifying the question as either about the topic or not.\n",
    "    \"\"\"\n",
    "    \n",
    "    print(\"Entering Question Classifier Node\")\n",
    "    system_message = SystemMessage(\n",
    "        content=\"\"\"\n",
    "        You are a strict classifier that answers only 'yes' or 'no' to determine whether a user's question is about any of the following three topics:\n",
    "        \n",
    "        1. Information about the Chennai Super Kings (CSK), including their achievements, titles, or captain MS Dhoni.\n",
    "        2. Information about the Indian Premier League (IPL) as a tournament, including its format, venues, revenue, broadcasting rights, or general economics.\n",
    "        3. Records or statistics specifically related to Virat Kohli in the IPL, such as runs scored, centuries, or the team he plays for.\n",
    "        \n",
    "        Respond with 'yes' **only** if the question clearly falls under one of these categories. Otherwise, respond with 'no'.\n",
    "        Do not explain your answer. Just respond with 'yes' or 'no'.\n",
    "        \"\"\"\n",
    "    )\n",
    "\n",
    "    human_message = HumanMessage(\n",
    "        content=f\"User question: {state['rephrased_question']}\"\n",
    "    )\n",
    "\n",
    "    grade_prompt = ChatPromptTemplate.from_messages([system_message, human_message])    \n",
    "    llm = ChatOpenAI(model=\"gpt-4o-mini\")\n",
    "\n",
    "    structured_llm = llm.with_structured_output(GradeQuestion)\n",
    "    grader_llm = grade_prompt | structured_llm\n",
    "    result = grader_llm.invoke({})\n",
    "\n",
    "    state['on_topic'] = result.score.strip().lower()\n",
    "    print(f\"Question is about the topic: {state['on_topic']}\")\n",
    "\n",
    "    return state"
   ]
  },
  {
   "cell_type": "code",
   "execution_count": 14,
   "id": "9d3db7a5",
   "metadata": {},
   "outputs": [],
   "source": [
    "def on_topic_node(state: AgentState) -> AgentState:\n",
    "    \"\"\" \n",
    "    This node is responsible for generating the answer to the question.\n",
    "    \"\"\"\n",
    "    \n",
    "    print(\"Entering on Topic Router\")\n",
    "    on_topic = state.get(\"on_topic\",\"\").strip().lower()\n",
    "    if on_topic == \"yes\":\n",
    "        print(\"Routing to Retriever\")\n",
    "        return \"retrieve_node\"\n",
    "    else:\n",
    "        print(\"Routing to off_topic response\")\n",
    "        return \"off_topic_response_node\"\n"
   ]
  },
  {
   "cell_type": "code",
   "execution_count": 15,
   "id": "9db2cbef",
   "metadata": {},
   "outputs": [],
   "source": [
    "def retrieve_node(state: AgentState)-> AgentState:\n",
    "    \"\"\" \n",
    "    This node is responsible for retrieving the answer to the question.\n",
    "    \"\"\"\n",
    "    \n",
    "    print(\"Entering Retriever Node\")\n",
    "    documents = retriever.invoke(state['rephrased_question'])\n",
    "    print(f\"retriever returned {len(documents)} documents\")\n",
    "    state['documents'] = documents\n",
    "    return state"
   ]
  },
  {
   "cell_type": "code",
   "execution_count": 16,
   "id": "f6cbf78b",
   "metadata": {},
   "outputs": [],
   "source": [
    "class GradeDocument(BaseModel):\n",
    "    score: str = Field(\n",
    "        description=\"Document is relevant to question or not If yes -> 'Yes' if not-> 'No'\"\n",
    "    )"
   ]
  },
  {
   "cell_type": "code",
   "execution_count": 17,
   "id": "e9a677ce",
   "metadata": {},
   "outputs": [],
   "source": [
    "def retriever_grade_node(state: AgentState) -> AgentState:\n",
    "    \"\"\" \n",
    "    This node is responsible for grading the retrieved documents.\n",
    "    \"\"\"\n",
    "    \n",
    "    print(\"Entering Retriever Grader Node\")\n",
    "    \n",
    "    system_message = SystemMessage(\n",
    "        content=\"\"\"\n",
    "        You are a grader assessing the relevance of a retrieved document to a user question.\n",
    "        Only answer with 'yes' or 'no'.\n",
    "        \n",
    "        If the document contains information relevant to the user's question, respond with 'yes'.\n",
    "        Otherwise, respond with 'no'.\"\"\"\n",
    "    )\n",
    "    llm = ChatOpenAI(model=\"gpt-4o-mini\")\n",
    "    strucutured_llm = llm.with_structured_output(GradeDocument)\n",
    "\n",
    "    relevant_docs = []\n",
    "    for doc in state['documents']:\n",
    "\n",
    "        human_message = HumanMessage(\n",
    "            content=f\"User question: {state['rephrased_question']} \\n\\Retrieved document: {doc.page_content}\"\n",
    "        )\n",
    "        grader_prompt = ChatPromptTemplate.from_messages([system_message, human_message])\n",
    "        grader_llm = grader_prompt | strucutured_llm\n",
    "        result = grader_llm.invoke({})\n",
    "\n",
    "        print(f\"Grading document: {doc.page_content[:30]}... is relevant to question? Result: {result.score.strip()}\")\n",
    "\n",
    "        if result.score.strip().lower() == \"yes\":\n",
    "            relevant_docs.append(doc)\n",
    "\n",
    "    state['documents'] = relevant_docs\n",
    "    state['proceed_to_generate'] = True if len(relevant_docs) > 0 else False\n",
    "    print(f\"retriever_grade: Proceed to Generate = {state['proceed_to_generate']}\")\n",
    "    return state "
   ]
  },
  {
   "cell_type": "code",
   "execution_count": 18,
   "id": "980767b0",
   "metadata": {},
   "outputs": [],
   "source": [
    "def proceed_router_node(state: AgentState)-> AgentState:\n",
    "    \"\"\" \n",
    "    This node is responsible for generating the answer to the question.\n",
    "    \"\"\"\n",
    "\n",
    "    print(\"Entering proceed Router\")\n",
    "    rephrase_count = state.get(\"rephrase_count\", 0)\n",
    "    if state.get(\"proceed_to_generate\", False):\n",
    "        print(\"Routing to generate_answer\")\n",
    "        return \"generate_answer_node\"\n",
    "    elif rephrase_count >= 2:\n",
    "        print(\"Maximum rephrase attempts reached. Cannot find relevant documents.\")\n",
    "        return \"cannot_answer_node\"\n",
    "    else:\n",
    "        print(\"Routing to refine_question\")\n",
    "        return \"refine_question_node\""
   ]
  },
  {
   "cell_type": "code",
   "execution_count": 19,
   "id": "9fc5085f",
   "metadata": {},
   "outputs": [],
   "source": [
    "def refine_question_node(state: AgentState)-> AgentState:\n",
    "    \"\"\" \n",
    "    This node is responsible for refining the question.\"\"\"\n",
    "\n",
    "    print(\"Entering refine_question Node\")\n",
    "    rephrase_count = state.get(\"rephrase_count\", 0)\n",
    "\n",
    "    if rephrase_count >=2:\n",
    "        print(\"Maximum rephrase attempts reached. Cannot find relevant documents.\")\n",
    "        return state #cannot_answer_node \n",
    "    \n",
    "    question_to_refine = state['rephrased_question']\n",
    "\n",
    "    system_message = SystemMessage(\n",
    "        content=\"\"\"You are a helpful assistant that slightly refines the user's question to improve retrieval results.\n",
    "Provide a slightly adjusted version of the question.\"\"\"\n",
    "    )\n",
    "    human_message = HumanMessage(\n",
    "        content=f\"Original question: {question_to_refine}\\n\\nProvide a slightly refined question.\"\n",
    "    )\n",
    "\n",
    "    refine_prompt = ChatPromptTemplate.from_messages([system_message, human_message])\n",
    "    llm = ChatOpenAI(model=\"gpt-4o-mini\")\n",
    "    prompt = refine_prompt.format()\n",
    "\n",
    "    response = llm.invoke(prompt)\n",
    "    refined_question = response.content.strip()\n",
    "    print(f\"Refined question: {refined_question}\")\n",
    "    state['rephrased_question'] = refined_question\n",
    "    state['rephrase_count'] = rephrase_count + 1\n",
    "    return state"
   ]
  },
  {
   "cell_type": "code",
   "execution_count": 20,
   "id": "150efcdd",
   "metadata": {},
   "outputs": [],
   "source": [
    "def generate_answer_node(state: AgentState)-> AgentState:\n",
    "    \"\"\" \n",
    "    This node is responsible for generating the answer to the question.\"\"\"\n",
    "\n",
    "    print(\"Entering Generate Answer Node\")\n",
    "\n",
    "    if \"messages\" not in state or state['messages'] is None:\n",
    "        raise ValueError(\"No messages found in state\")\n",
    "    \n",
    "    history = state['messages']\n",
    "    documents = state['documents']\n",
    "    rephrased_question = state['rephrased_question']\n",
    "\n",
    "    response = rag_chain.invoke(\n",
    "        {\"chat_history\": history, \n",
    "         \"context\": documents, \n",
    "         \"question\": rephrased_question}\n",
    "    )\n",
    "\n",
    "    generation = response.content.strip()\n",
    "    state[\"messages\"].append(AIMessage(content=generation))\n",
    "    print(f\"Generate Answer: {generation}\")\n",
    "    return state"
   ]
  },
  {
   "cell_type": "code",
   "execution_count": 21,
   "id": "d6765f52",
   "metadata": {},
   "outputs": [],
   "source": [
    "def cannot_answer_node(state: AgentState)-> AgentState:\n",
    "    \"\"\" \n",
    "    This node is responsible for generating the answer to the question.\"\"\"\n",
    "\n",
    "    print(\"Entering Cannot Answer Node\")\n",
    "    if \"messages\" not in state or state[\"messages\"] is None:\n",
    "        state[\"messages\"] = []\n",
    "\n",
    "    state[\"messages\"].append(\n",
    "        AIMessage(\n",
    "            content=\"I'm sorry, but I cannot find the information you're looking for.\"\n",
    "        )\n",
    "    )\n",
    "    return state\n",
    "    "
   ]
  },
  {
   "cell_type": "code",
   "execution_count": 22,
   "id": "7b44dfe3",
   "metadata": {},
   "outputs": [],
   "source": [
    "def off_topic_response_node(state: AgentState)-> AgentState:\n",
    "    \"\"\" \n",
    "    This node is responsible for generating the answer to the question.\"\"\"\n",
    "\n",
    "    print(\"Entering Off Topic Response Node\")\n",
    "    if \"messages\" not in state or state[\"messages\"] is None:\n",
    "        state[\"messages\"] = []\n",
    "    state[\"messages\"].append(AIMessage(content=\"I can't respond to that!\"))\n",
    "    return state"
   ]
  },
  {
   "cell_type": "code",
   "execution_count": 23,
   "id": "eccaa8d2",
   "metadata": {},
   "outputs": [],
   "source": [
    "from langgraph.checkpoint.memory import MemorySaver\n",
    "\n",
    "checkpointer = MemorySaver()"
   ]
  },
  {
   "cell_type": "code",
   "execution_count": 24,
   "id": "968ce596",
   "metadata": {},
   "outputs": [
    {
     "data": {
      "text/plain": [
       "<langgraph.graph.state.StateGraph at 0x1b5c7474d90>"
      ]
     },
     "execution_count": 24,
     "metadata": {},
     "output_type": "execute_result"
    }
   ],
   "source": [
    "#workflow\n",
    "\n",
    "builder = StateGraph(AgentState)\n",
    "\n",
    "#nodes\n",
    "builder.add_node(\"question_rewriter_node\", question_rewriter_node)\n",
    "builder.add_node(\"question_classifier_node\", question_classifier_node)\n",
    "builder.add_node(\"off_topic_response_node\", off_topic_response_node)\n",
    "builder.add_node(\"retrieve_node\", retrieve_node)\n",
    "builder.add_node(\"refine_question_node\", refine_question_node)\n",
    "builder.add_node(\"generate_answer_node\", generate_answer_node)\n",
    "builder.add_node(\"cannot_answer_node\", cannot_answer_node)\n",
    "builder.add_node(\"retriever_grade_node\", retriever_grade_node)\n",
    "\n",
    "#edges\n",
    "builder.add_edge(START,\"question_rewriter_node\")\n",
    "builder.add_edge(\"question_rewriter_node\", \"question_classifier_node\")\n",
    "\n",
    "\n",
    "builder.add_conditional_edges(\n",
    "    \"question_classifier_node\",\n",
    "    on_topic_node, \n",
    "    {\n",
    "        \"retrieve_node\": \"retrieve_node\",\n",
    "        \"off_topic_response_node\": \"off_topic_response_node\"\n",
    "    }\n",
    ")\n",
    "builder.add_edge(\"retrieve_node\", \"retriever_grade_node\")\n",
    "\n",
    "builder.add_conditional_edges(\n",
    "    \"retriever_grade_node\",\n",
    "    proceed_router_node,\n",
    "    {\n",
    "        \"generate_answer_node\": \"generate_answer_node\",\n",
    "        \"cannot_answer_node\": \"cannot_answer_node\",\n",
    "        \"refine_question_node\": \"refine_question_node\"\n",
    "    }\n",
    ")\n",
    "\n",
    "builder.add_edge(\"refine_question_node\", \"retrieve_node\")\n",
    "builder.add_edge(\"generate_answer_node\",END)\n",
    "builder.add_edge(\"cannot_answer_node\",END)\n",
    "builder.add_edge(\"off_topic_response_node\",END)\n",
    "\n"
   ]
  },
  {
   "cell_type": "code",
   "execution_count": 25,
   "id": "4258bc1c",
   "metadata": {},
   "outputs": [],
   "source": [
    "graph = builder.compile(checkpointer=checkpointer)"
   ]
  },
  {
   "cell_type": "code",
   "execution_count": 26,
   "id": "1e77918c",
   "metadata": {},
   "outputs": [
    {
     "name": "stdout",
     "output_type": "stream",
     "text": [
      "Entering Question Classifier Node\n",
      "Question is about the topic: no\n",
      "Entering on Topic Router\n",
      "Routing to off_topic response\n",
      "Entering Off Topic Response Node\n"
     ]
    },
    {
     "data": {
      "text/plain": [
       "{'messages': [HumanMessage(content='How is the weather?', additional_kwargs={}, response_metadata={}, id='a0265b5a-0446-484a-8817-7f9565c2ba3a'),\n",
       "  AIMessage(content=\"I can't respond to that!\", additional_kwargs={}, response_metadata={}, id='800a5b33-f2bd-46fe-9662-3ee21fb21169')],\n",
       " 'documents': [],\n",
       " 'on_topic': 'no',\n",
       " 'rephrased_question': 'How is the weather?',\n",
       " 'proceed_to_generate': False,\n",
       " 'rephrase_count': 0,\n",
       " 'question': HumanMessage(content='How is the weather?', additional_kwargs={}, response_metadata={}, id='a0265b5a-0446-484a-8817-7f9565c2ba3a')}"
      ]
     },
     "execution_count": 26,
     "metadata": {},
     "output_type": "execute_result"
    }
   ],
   "source": [
    "input_data = {\"question\": HumanMessage(content=\"How is the weather?\")}\n",
    "graph.invoke(input=input_data, config={\"configurable\": {\"thread_id\": 1}})"
   ]
  },
  {
   "cell_type": "code",
   "execution_count": 27,
   "id": "e138abdf",
   "metadata": {},
   "outputs": [
    {
     "name": "stdout",
     "output_type": "stream",
     "text": [
      "Entering Question Classifier Node\n",
      "Question is about the topic: yes\n",
      "Entering on Topic Router\n",
      "Routing to Retriever\n",
      "Entering Retriever Node\n",
      "retriever returned 2 documents\n",
      "Entering Retriever Grader Node\n",
      "Grading document: The Chennai Super Kings (CSK) ... is relevant to question? Result: yes\n",
      "Grading document: Virat Kohli is the highest run... is relevant to question? Result: no\n",
      "retriever_grade: Proceed to Generate = True\n",
      "Entering proceed Router\n",
      "Routing to generate_answer\n",
      "Entering Generate Answer Node\n",
      "Generate Answer: The captain of CSK is MS Dhoni.\n"
     ]
    },
    {
     "data": {
      "text/plain": [
       "{'messages': [HumanMessage(content='who is captain of CSK?', additional_kwargs={}, response_metadata={}, id='8b06a616-05dc-4428-9eee-b9f5bfa531c5'),\n",
       "  AIMessage(content='The captain of CSK is MS Dhoni.', additional_kwargs={}, response_metadata={}, id='c74e28bd-2657-433f-821d-50487a994ad9')],\n",
       " 'documents': [Document(metadata={'source': 'teams.txt'}, page_content='The Chennai Super Kings (CSK) are one of the most successful teams in IPL history, having won the championship five times. The team is led by legendary captain MS Dhoni.')],\n",
       " 'on_topic': 'yes',\n",
       " 'rephrased_question': 'who is captain of CSK?',\n",
       " 'proceed_to_generate': True,\n",
       " 'rephrase_count': 0,\n",
       " 'question': HumanMessage(content='who is captain of CSK?', additional_kwargs={}, response_metadata={}, id='8b06a616-05dc-4428-9eee-b9f5bfa531c5')}"
      ]
     },
     "execution_count": 27,
     "metadata": {},
     "output_type": "execute_result"
    }
   ],
   "source": [
    "\n",
    "input_data = {\n",
    "    \"question\": HumanMessage(\n",
    "        content=\"who is captain of CSK?\"\n",
    "    )\n",
    "}\n",
    "graph.invoke(input=input_data, config={\"configurable\": {\"thread_id\": 2}})"
   ]
  },
  {
   "cell_type": "code",
   "execution_count": 28,
   "id": "912372ab",
   "metadata": {},
   "outputs": [
    {
     "name": "stdout",
     "output_type": "stream",
     "text": [
      "Entering Question Classifier Node\n",
      "Question is about the topic: yes\n",
      "Entering on Topic Router\n",
      "Routing to Retriever\n",
      "Entering Retriever Node\n",
      "retriever returned 2 documents\n",
      "Entering Retriever Grader Node\n",
      "Grading document: The Chennai Super Kings (CSK) ... is relevant to question? Result: yes\n",
      "Grading document: The Mumbai Indians (MI) have w... is relevant to question? Result: no\n",
      "retriever_grade: Proceed to Generate = True\n",
      "Entering proceed Router\n",
      "Routing to generate_answer\n",
      "Entering Generate Answer Node\n",
      "Generate Answer: The Indian Premier League (IPL) is a professional Twenty20 cricket league in India, known for its exciting matches and a mix of international and local players. The Chennai Super Kings (CSK) are one of the most successful teams in IPL history, having won the championship five times. The team is led by legendary captain MS Dhoni, who is renowned for his leadership skills and finishing abilities in matches. CSK is celebrated for its loyal fan base and consistent performances throughout the tournament's history.\n"
     ]
    },
    {
     "data": {
      "text/plain": [
       "{'messages': [HumanMessage(content='Tell about IPL and CSK', additional_kwargs={}, response_metadata={}, id='82c4279f-5b7e-4ec0-a59a-9b6ec72a69c5'),\n",
       "  AIMessage(content=\"The Indian Premier League (IPL) is a professional Twenty20 cricket league in India, known for its exciting matches and a mix of international and local players. The Chennai Super Kings (CSK) are one of the most successful teams in IPL history, having won the championship five times. The team is led by legendary captain MS Dhoni, who is renowned for his leadership skills and finishing abilities in matches. CSK is celebrated for its loyal fan base and consistent performances throughout the tournament's history.\", additional_kwargs={}, response_metadata={}, id='cb1c644a-4b88-463b-a84c-ce2b2c408d65')],\n",
       " 'documents': [Document(metadata={'source': 'teams.txt'}, page_content='The Chennai Super Kings (CSK) are one of the most successful teams in IPL history, having won the championship five times. The team is led by legendary captain MS Dhoni.')],\n",
       " 'on_topic': 'yes',\n",
       " 'rephrased_question': 'Tell about IPL and CSK',\n",
       " 'proceed_to_generate': True,\n",
       " 'rephrase_count': 0,\n",
       " 'question': HumanMessage(content='Tell about IPL and CSK', additional_kwargs={}, response_metadata={}, id='82c4279f-5b7e-4ec0-a59a-9b6ec72a69c5')}"
      ]
     },
     "execution_count": 28,
     "metadata": {},
     "output_type": "execute_result"
    }
   ],
   "source": [
    "\n",
    "input_data = {\n",
    "    \"question\": HumanMessage(\n",
    "        content=\"Tell about IPL and CSK\"\n",
    "    )\n",
    "}\n",
    "graph.invoke(input=input_data, config={\"configurable\": {\"thread_id\": 3}})"
   ]
  }
 ],
 "metadata": {
  "kernelspec": {
   "display_name": "Python 3",
   "language": "python",
   "name": "python3"
  },
  "language_info": {
   "codemirror_mode": {
    "name": "ipython",
    "version": 3
   },
   "file_extension": ".py",
   "mimetype": "text/x-python",
   "name": "python",
   "nbconvert_exporter": "python",
   "pygments_lexer": "ipython3",
   "version": "3.11.0"
  }
 },
 "nbformat": 4,
 "nbformat_minor": 5
}
