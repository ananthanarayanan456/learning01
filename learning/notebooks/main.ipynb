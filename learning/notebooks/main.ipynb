{
 "cells": [
  {
   "cell_type": "code",
   "execution_count": 1,
   "id": "c9e54768",
   "metadata": {},
   "outputs": [
    {
     "name": "stdout",
     "output_type": "stream",
     "text": [
      "Hello\n"
     ]
    }
   ],
   "source": [
    "print(\"Hello\")"
   ]
  },
  {
   "cell_type": "code",
   "execution_count": 2,
   "id": "eb32c9bc",
   "metadata": {},
   "outputs": [],
   "source": [
    "import operator\n",
    "from typing import Annotated, Any, TypedDict\n",
    "\n",
    "from langgraph.graph import StateGraph, START, END"
   ]
  },
  {
   "cell_type": "code",
   "execution_count": 3,
   "id": "e452390e",
   "metadata": {},
   "outputs": [
    {
     "data": {
      "text/plain": [
       "True"
      ]
     },
     "execution_count": 3,
     "metadata": {},
     "output_type": "execute_result"
    }
   ],
   "source": [
    "from dotenv import load_dotenv\n",
    "load_dotenv()"
   ]
  },
  {
   "cell_type": "code",
   "execution_count": 4,
   "id": "4b226140",
   "metadata": {},
   "outputs": [],
   "source": [
    "from langgraph.graph import MessagesState\n",
    "\n",
    "class InputState(MessagesState):\n",
    "    string_value: Annotated[str, operator.add]"
   ]
  },
  {
   "cell_type": "code",
   "execution_count": 5,
   "id": "d96ea846",
   "metadata": {},
   "outputs": [],
   "source": [
    "def append_a(state: InputState)-> InputState:\n",
    "    state['string_value'] += 'a'\n",
    "    return state\n",
    "\n",
    "\n",
    "def append_b(state: InputState)-> InputState:\n",
    "    state['string_value'] += 'b'\n",
    "    return state\n",
    "\n",
    "\n",
    "def append_c(state: InputState)-> InputState:\n",
    "    state['string_value'] += 'c'\n",
    "    return state"
   ]
  },
  {
   "cell_type": "code",
   "execution_count": 6,
   "id": "06d36346",
   "metadata": {},
   "outputs": [],
   "source": [
    "def combine(state: InputState)-> InputState:\n",
    "    combined_string = state['string_value']\n",
    "    print(f\"Combined string: {combined_string}\")\n",
    "    final_string = combined_string.upper()\n",
    "    print(f\"Combined string: {final_string}\")\n",
    "    state['string_value'] = final_string\n",
    "    return state"
   ]
  },
  {
   "cell_type": "code",
   "execution_count": 25,
   "id": "191becf0",
   "metadata": {},
   "outputs": [],
   "source": [
    "builder = StateGraph(InputState)\n",
    "\n",
    "builder.add_node(\"start_node\",lambda state: state)\n",
    "builder.add_node(\"append_a\", append_a)\n",
    "builder.add_node(\"append_b\", append_b)\n",
    "builder.add_node(\"append_c\", append_c)\n",
    "builder.add_node(\"combine\", combine)\n",
    "\n",
    "builder.add_edge(START, \"start_node\")\n",
    "builder.add_edge(\"start_node\", \"append_a\")\n",
    "builder.add_edge(\"start_node\", \"append_b\")\n",
    "builder.add_edge(\"start_node\", \"append_c\")\n",
    "\n",
    "\n",
    "builder.add_edge(\"append_a\", \"combine\")\n",
    "builder.add_edge(\"append_b\", \"combine\")\n",
    "builder.add_edge(\"append_c\", \"combine\")\n",
    "\n",
    "builder.add_edge(\"combine\", END)\n",
    "\n",
    "graph = builder.compile()"
   ]
  },
  {
   "cell_type": "code",
   "execution_count": 26,
   "id": "e50dbd1a",
   "metadata": {},
   "outputs": [],
   "source": [
    "initial_state = {\"string_value\": \"\"}"
   ]
  },
  {
   "cell_type": "code",
   "execution_count": 27,
   "id": "9a91076e",
   "metadata": {},
   "outputs": [
    {
     "name": "stdout",
     "output_type": "stream",
     "text": [
      "%%{init: {'flowchart': {'curve': 'linear'}}}%%\n",
      "graph TD;\n",
      "\t__start__([<p>__start__</p>]):::first\n",
      "\tstart_node(start_node)\n",
      "\tappend_a(append_a)\n",
      "\tappend_b(append_b)\n",
      "\tappend_c(append_c)\n",
      "\tcombine(combine)\n",
      "\t__end__([<p>__end__</p>]):::last\n",
      "\t__start__ --> start_node;\n",
      "\tappend_a --> combine;\n",
      "\tappend_b --> combine;\n",
      "\tappend_c --> combine;\n",
      "\tcombine --> __end__;\n",
      "\tstart_node --> append_a;\n",
      "\tstart_node --> append_b;\n",
      "\tstart_node --> append_c;\n",
      "\tclassDef default fill:#f2f0ff,line-height:1.2\n",
      "\tclassDef first fill-opacity:0\n",
      "\tclassDef last fill:#bfb6fc\n",
      "\n"
     ]
    }
   ],
   "source": [
    "print(graph.get_graph().draw_mermaid())\n"
   ]
  },
  {
   "cell_type": "code",
   "execution_count": 28,
   "id": "c67244fb",
   "metadata": {},
   "outputs": [
    {
     "name": "stdout",
     "output_type": "stream",
     "text": [
      "Combined string: abc\n",
      "Combined string: ABC\n",
      "{'messages': [], 'string_value': 'abcABC'}\n"
     ]
    }
   ],
   "source": [
    "\n",
    "result = graph.invoke(initial_state)\n",
    "print(result)"
   ]
  },
  {
   "cell_type": "code",
   "execution_count": 30,
   "id": "749c9a7d",
   "metadata": {},
   "outputs": [],
   "source": [
    "import operator\n",
    "import random\n",
    "from typing import Annotated, Any, TypedDict, List\n",
    "from langgraph.graph import StateGraph, START, END\n",
    "from langgraph.graph import MessagesState\n",
    "from langgraph.types import Send"
   ]
  },
  {
   "cell_type": "code",
   "execution_count": 31,
   "id": "b851e2c1",
   "metadata": {},
   "outputs": [],
   "source": [
    "class MessagesState(MessagesState):\n",
    "    string_values : Annotated[str, operator.add]\n",
    "    letters: List[str]"
   ]
  },
  {
   "cell_type": "code",
   "execution_count": 32,
   "id": "a6148c80",
   "metadata": {},
   "outputs": [],
   "source": [
    "def append_letters(state: MessagesState)-> MessagesState:\n",
    "    num_nodes = random.randint(5, 10)\n",
    "    letters = random.choices([\"a\", \"b\", \"c\", \"d\", \"e\"], k=num_nodes)\n",
    "    print(f\"Generated letters: {letters}\")\n",
    "    state['letters'] = letters\n",
    "    return state\n",
    "\n",
    "def append_letters(state: MessagesState)->MessagesState:\n",
    "    letter = state['letters']\n",
    "    state['string_values'] = letter\n",
    "    return state \n",
    "\n",
    "\n",
    "def generate_random_nodes(state: MessagesState)-> MessagesState:\n",
    "    letters = state['letters']\n",
    "    return [Send(\"append_letters\", {\"letter\": letter}) for letter in letters]"
   ]
  },
  {
   "cell_type": "code",
   "execution_count": 33,
   "id": "d4feb455",
   "metadata": {},
   "outputs": [],
   "source": [
    "def combine_strings(state: MessagesState) -> Any:\n",
    "    combined_string = state[\"string_value\"]\n",
    "    print(f\"combine_strings: Combined string_value='{combined_string}'\")\n",
    "    final_string = combined_string.upper()\n",
    "    print(f\"combine_strings: Final string_value='{final_string}'\")\n",
    "    return {\"string_value\": final_string}"
   ]
  },
  {
   "cell_type": "code",
   "execution_count": null,
   "id": "9e5a142e",
   "metadata": {},
   "outputs": [],
   "source": []
  }
 ],
 "metadata": {
  "kernelspec": {
   "display_name": "Python 3",
   "language": "python",
   "name": "python3"
  },
  "language_info": {
   "codemirror_mode": {
    "name": "ipython",
    "version": 3
   },
   "file_extension": ".py",
   "mimetype": "text/x-python",
   "name": "python",
   "nbconvert_exporter": "python",
   "pygments_lexer": "ipython3",
   "version": "3.11.0"
  }
 },
 "nbformat": 4,
 "nbformat_minor": 5
}
